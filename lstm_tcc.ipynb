{
  "nbformat": 4,
  "nbformat_minor": 0,
  "metadata": {
    "colab": {
      "name": "lstm-tcc.ipynb",
      "provenance": [],
      "authorship_tag": "ABX9TyPwLSwtkr9u8jfDbQoWS7yQ",
      "include_colab_link": true
    },
    "kernelspec": {
      "name": "python3",
      "display_name": "Python 3"
    },
    "language_info": {
      "name": "python"
    }
  },
  "cells": [
    {
      "cell_type": "markdown",
      "metadata": {
        "id": "view-in-github",
        "colab_type": "text"
      },
      "source": [
        "<a href=\"https://colab.research.google.com/github/augustoaccorsi/autoscaling/blob/main/lstm_tcc.ipynb\" target=\"_parent\"><img src=\"https://colab.research.google.com/assets/colab-badge.svg\" alt=\"Open In Colab\"/></a>"
      ]
    },
    {
      "cell_type": "code",
      "metadata": {
        "id": "tRK09KHNlwys"
      },
      "source": [
        "import numpy\n",
        "import matplotlib.pyplot as plt\n",
        "import pandas\n",
        "import math\n",
        "from keras.models import Sequential\n",
        "from keras.layers import Dense\n",
        "from keras.layers import LSTM\n",
        "from sklearn.preprocessing import MinMaxScaler\n",
        "from sklearn.metrics import mean_squared_error\n",
        "\n",
        "# fix random seed for reproducibility\n",
        "numpy.random.seed(7)\n"
      ],
      "execution_count": 159,
      "outputs": []
    },
    {
      "cell_type": "code",
      "metadata": {
        "colab": {
          "base_uri": "https://localhost:8080/"
        },
        "id": "-ohe4j26l11Y",
        "outputId": "03ca24bd-a749-4dbd-de22-2b4e6ebe732a"
      },
      "source": [
        "data_xls = pd.read_excel('/content/cpu.xlsx', 'Sheet1', dtype=str, index_col=None)\n",
        "data_xls.to_csv('/content/csvfile.csv', encoding='utf-8', index=False) \n",
        "dataset=pd.read_csv('/content/csvfile.csv', index_col='date',parse_dates=True)\n",
        "\n",
        "dataset=dataset.dropna()\n",
        "print('Shape of dataset',dataset.shape)\n",
        "#dataset.head()\n",
        "data.columns\n"
      ],
      "execution_count": 160,
      "outputs": [
        {
          "output_type": "stream",
          "text": [
            "Shape of dataset (230, 1)\n"
          ],
          "name": "stdout"
        },
        {
          "output_type": "execute_result",
          "data": {
            "text/plain": [
              "Index(['value'], dtype='object')"
            ]
          },
          "metadata": {
            "tags": []
          },
          "execution_count": 160
        }
      ]
    },
    {
      "cell_type": "code",
      "metadata": {
        "id": "wMJqiBtCr0xW"
      },
      "source": [
        "# normalize the dataset\n",
        "scaler = MinMaxScaler(feature_range=(0, 1))\n",
        "dataset = scaler.fit_transform(dataset)"
      ],
      "execution_count": 161,
      "outputs": []
    },
    {
      "cell_type": "code",
      "metadata": {
        "colab": {
          "base_uri": "https://localhost:8080/"
        },
        "id": "-AVFGQjnrlZI",
        "outputId": "acf452b2-e77f-487f-a11f-7136fe9592cf"
      },
      "source": [
        "# split into train and test sets\n",
        "train_size = int(len(dataset) * 0.67)\n",
        "test_size = len(dataset) - train_size\n",
        "train, test = dataset[0:train_size,:], dataset[train_size:len(dataset),:]\n",
        "print(len(train), len(test))"
      ],
      "execution_count": 162,
      "outputs": [
        {
          "output_type": "stream",
          "text": [
            "154 76\n"
          ],
          "name": "stdout"
        }
      ]
    },
    {
      "cell_type": "code",
      "metadata": {
        "id": "jsuTIa3Nr28n"
      },
      "source": [
        "# convert an array of values into a dataset matrix\n",
        "def create_dataset(dataset, look_back=1):\n",
        "\tdataX, dataY = [], []\n",
        "\tfor i in range(len(dataset)-look_back-1):\n",
        "\t\ta = dataset[i:(i+look_back), 0]\n",
        "\t\tdataX.append(a)\n",
        "\t\tdataY.append(dataset[i + look_back, 0])\n",
        "\treturn numpy.array(dataX), numpy.array(dataY)\n",
        " \n",
        "# reshape into X=t and Y=t+1\n",
        "look_back = 1\n",
        "trainX, trainY = create_dataset(train, look_back)\n",
        "testX, testY = create_dataset(test, look_back)"
      ],
      "execution_count": 163,
      "outputs": []
    },
    {
      "cell_type": "code",
      "metadata": {
        "id": "L9IlXHd0r6_k"
      },
      "source": [
        "# reshape input to be [samples, time steps, features]\n",
        "trainX = numpy.reshape(trainX, (trainX.shape[0], 1, trainX.shape[1]))\n",
        "testX = numpy.reshape(testX, (testX.shape[0], 1, testX.shape[1]))"
      ],
      "execution_count": 164,
      "outputs": []
    },
    {
      "cell_type": "code",
      "metadata": {
        "colab": {
          "base_uri": "https://localhost:8080/"
        },
        "id": "wrPFDCFUr8Vp",
        "outputId": "83029030-a259-48c7-fa40-5ac17117bebe"
      },
      "source": [
        "# create and fit the LSTM network\n",
        "model = Sequential()\n",
        "model.add(LSTM(4, input_shape=(1, look_back)))\n",
        "model.add(Dense(1))\n",
        "model.compile(loss='mean_squared_error', optimizer='adam')\n",
        "model.fit(trainX, trainY, epochs=100, batch_size=1, verbose=2)"
      ],
      "execution_count": 165,
      "outputs": [
        {
          "output_type": "stream",
          "text": [
            "Epoch 1/100\n",
            "152/152 - 2s - loss: 0.1971\n",
            "Epoch 2/100\n",
            "152/152 - 0s - loss: 0.1467\n",
            "Epoch 3/100\n",
            "152/152 - 0s - loss: 0.1211\n",
            "Epoch 4/100\n",
            "152/152 - 0s - loss: 0.1090\n",
            "Epoch 5/100\n",
            "152/152 - 0s - loss: 0.1000\n",
            "Epoch 6/100\n",
            "152/152 - 0s - loss: 0.0921\n",
            "Epoch 7/100\n",
            "152/152 - 0s - loss: 0.0857\n",
            "Epoch 8/100\n",
            "152/152 - 0s - loss: 0.0806\n",
            "Epoch 9/100\n",
            "152/152 - 0s - loss: 0.0761\n",
            "Epoch 10/100\n",
            "152/152 - 0s - loss: 0.0731\n",
            "Epoch 11/100\n",
            "152/152 - 0s - loss: 0.0714\n",
            "Epoch 12/100\n",
            "152/152 - 0s - loss: 0.0697\n",
            "Epoch 13/100\n",
            "152/152 - 0s - loss: 0.0691\n",
            "Epoch 14/100\n",
            "152/152 - 0s - loss: 0.0689\n",
            "Epoch 15/100\n",
            "152/152 - 0s - loss: 0.0680\n",
            "Epoch 16/100\n",
            "152/152 - 0s - loss: 0.0679\n",
            "Epoch 17/100\n",
            "152/152 - 0s - loss: 0.0675\n",
            "Epoch 18/100\n",
            "152/152 - 0s - loss: 0.0674\n",
            "Epoch 19/100\n",
            "152/152 - 0s - loss: 0.0677\n",
            "Epoch 20/100\n",
            "152/152 - 0s - loss: 0.0675\n",
            "Epoch 21/100\n",
            "152/152 - 0s - loss: 0.0674\n",
            "Epoch 22/100\n",
            "152/152 - 0s - loss: 0.0673\n",
            "Epoch 23/100\n",
            "152/152 - 0s - loss: 0.0671\n",
            "Epoch 24/100\n",
            "152/152 - 0s - loss: 0.0675\n",
            "Epoch 25/100\n",
            "152/152 - 0s - loss: 0.0676\n",
            "Epoch 26/100\n",
            "152/152 - 0s - loss: 0.0678\n",
            "Epoch 27/100\n",
            "152/152 - 0s - loss: 0.0676\n",
            "Epoch 28/100\n",
            "152/152 - 0s - loss: 0.0675\n",
            "Epoch 29/100\n",
            "152/152 - 0s - loss: 0.0674\n",
            "Epoch 30/100\n",
            "152/152 - 0s - loss: 0.0672\n",
            "Epoch 31/100\n",
            "152/152 - 0s - loss: 0.0672\n",
            "Epoch 32/100\n",
            "152/152 - 0s - loss: 0.0673\n",
            "Epoch 33/100\n",
            "152/152 - 0s - loss: 0.0671\n",
            "Epoch 34/100\n",
            "152/152 - 0s - loss: 0.0673\n",
            "Epoch 35/100\n",
            "152/152 - 0s - loss: 0.0674\n",
            "Epoch 36/100\n",
            "152/152 - 0s - loss: 0.0675\n",
            "Epoch 37/100\n",
            "152/152 - 0s - loss: 0.0671\n",
            "Epoch 38/100\n",
            "152/152 - 0s - loss: 0.0673\n",
            "Epoch 39/100\n",
            "152/152 - 0s - loss: 0.0674\n",
            "Epoch 40/100\n",
            "152/152 - 0s - loss: 0.0673\n",
            "Epoch 41/100\n",
            "152/152 - 0s - loss: 0.0672\n",
            "Epoch 42/100\n",
            "152/152 - 0s - loss: 0.0672\n",
            "Epoch 43/100\n",
            "152/152 - 0s - loss: 0.0676\n",
            "Epoch 44/100\n",
            "152/152 - 0s - loss: 0.0671\n",
            "Epoch 45/100\n",
            "152/152 - 0s - loss: 0.0673\n",
            "Epoch 46/100\n",
            "152/152 - 0s - loss: 0.0673\n",
            "Epoch 47/100\n",
            "152/152 - 0s - loss: 0.0671\n",
            "Epoch 48/100\n",
            "152/152 - 0s - loss: 0.0674\n",
            "Epoch 49/100\n",
            "152/152 - 0s - loss: 0.0672\n",
            "Epoch 50/100\n",
            "152/152 - 0s - loss: 0.0670\n",
            "Epoch 51/100\n",
            "152/152 - 0s - loss: 0.0671\n",
            "Epoch 52/100\n",
            "152/152 - 0s - loss: 0.0670\n",
            "Epoch 53/100\n",
            "152/152 - 0s - loss: 0.0667\n",
            "Epoch 54/100\n",
            "152/152 - 0s - loss: 0.0670\n",
            "Epoch 55/100\n",
            "152/152 - 0s - loss: 0.0671\n",
            "Epoch 56/100\n",
            "152/152 - 0s - loss: 0.0670\n",
            "Epoch 57/100\n",
            "152/152 - 0s - loss: 0.0668\n",
            "Epoch 58/100\n",
            "152/152 - 0s - loss: 0.0669\n",
            "Epoch 59/100\n",
            "152/152 - 0s - loss: 0.0669\n",
            "Epoch 60/100\n",
            "152/152 - 0s - loss: 0.0669\n",
            "Epoch 61/100\n",
            "152/152 - 0s - loss: 0.0671\n",
            "Epoch 62/100\n",
            "152/152 - 0s - loss: 0.0669\n",
            "Epoch 63/100\n",
            "152/152 - 0s - loss: 0.0669\n",
            "Epoch 64/100\n",
            "152/152 - 0s - loss: 0.0674\n",
            "Epoch 65/100\n",
            "152/152 - 0s - loss: 0.0669\n",
            "Epoch 66/100\n",
            "152/152 - 0s - loss: 0.0673\n",
            "Epoch 67/100\n",
            "152/152 - 0s - loss: 0.0668\n",
            "Epoch 68/100\n",
            "152/152 - 0s - loss: 0.0667\n",
            "Epoch 69/100\n",
            "152/152 - 0s - loss: 0.0666\n",
            "Epoch 70/100\n",
            "152/152 - 0s - loss: 0.0669\n",
            "Epoch 71/100\n",
            "152/152 - 0s - loss: 0.0666\n",
            "Epoch 72/100\n",
            "152/152 - 0s - loss: 0.0667\n",
            "Epoch 73/100\n",
            "152/152 - 0s - loss: 0.0669\n",
            "Epoch 74/100\n",
            "152/152 - 0s - loss: 0.0671\n",
            "Epoch 75/100\n",
            "152/152 - 0s - loss: 0.0668\n",
            "Epoch 76/100\n",
            "152/152 - 0s - loss: 0.0673\n",
            "Epoch 77/100\n",
            "152/152 - 0s - loss: 0.0667\n",
            "Epoch 78/100\n",
            "152/152 - 0s - loss: 0.0666\n",
            "Epoch 79/100\n",
            "152/152 - 0s - loss: 0.0667\n",
            "Epoch 80/100\n",
            "152/152 - 0s - loss: 0.0668\n",
            "Epoch 81/100\n",
            "152/152 - 0s - loss: 0.0666\n",
            "Epoch 82/100\n",
            "152/152 - 0s - loss: 0.0666\n",
            "Epoch 83/100\n",
            "152/152 - 0s - loss: 0.0667\n",
            "Epoch 84/100\n",
            "152/152 - 0s - loss: 0.0666\n",
            "Epoch 85/100\n",
            "152/152 - 0s - loss: 0.0665\n",
            "Epoch 86/100\n",
            "152/152 - 0s - loss: 0.0663\n",
            "Epoch 87/100\n",
            "152/152 - 0s - loss: 0.0666\n",
            "Epoch 88/100\n",
            "152/152 - 0s - loss: 0.0668\n",
            "Epoch 89/100\n",
            "152/152 - 0s - loss: 0.0671\n",
            "Epoch 90/100\n",
            "152/152 - 0s - loss: 0.0667\n",
            "Epoch 91/100\n",
            "152/152 - 0s - loss: 0.0664\n",
            "Epoch 92/100\n",
            "152/152 - 0s - loss: 0.0665\n",
            "Epoch 93/100\n",
            "152/152 - 0s - loss: 0.0664\n",
            "Epoch 94/100\n",
            "152/152 - 0s - loss: 0.0667\n",
            "Epoch 95/100\n",
            "152/152 - 0s - loss: 0.0667\n",
            "Epoch 96/100\n",
            "152/152 - 0s - loss: 0.0670\n",
            "Epoch 97/100\n",
            "152/152 - 0s - loss: 0.0667\n",
            "Epoch 98/100\n",
            "152/152 - 0s - loss: 0.0667\n",
            "Epoch 99/100\n",
            "152/152 - 0s - loss: 0.0667\n",
            "Epoch 100/100\n",
            "152/152 - 0s - loss: 0.0665\n"
          ],
          "name": "stdout"
        },
        {
          "output_type": "execute_result",
          "data": {
            "text/plain": [
              "<tensorflow.python.keras.callbacks.History at 0x7f3d1172a290>"
            ]
          },
          "metadata": {
            "tags": []
          },
          "execution_count": 165
        }
      ]
    },
    {
      "cell_type": "code",
      "metadata": {
        "colab": {
          "base_uri": "https://localhost:8080/"
        },
        "id": "EJpYAydAr_L4",
        "outputId": "fdab5e33-16f5-492e-a454-7c7a81ccc3c7"
      },
      "source": [
        "# make predictions\n",
        "trainPredict = model.predict(trainX)\n",
        "testPredict = model.predict(testX)\n",
        "# invert predictions\n",
        "trainPredict = scaler.inverse_transform(trainPredict)\n",
        "trainY = scaler.inverse_transform([trainY])\n",
        "testPredict = scaler.inverse_transform(testPredict)\n",
        "testY = scaler.inverse_transform([testY])\n",
        "# calculate root mean squared error\n",
        "trainScore = math.sqrt(mean_squared_error(trainY[0], trainPredict[:,0]))\n",
        "print('Train Score: %.2f RMSE' % (trainScore))\n",
        "testScore = math.sqrt(mean_squared_error(testY[0], testPredict[:,0]))\n",
        "print('Test Score: %.2f RMSE' % (testScore))"
      ],
      "execution_count": 166,
      "outputs": [
        {
          "output_type": "stream",
          "text": [
            "Train Score: 25.63 RMSE\n",
            "Test Score: 30.04 RMSE\n"
          ],
          "name": "stdout"
        }
      ]
    },
    {
      "cell_type": "code",
      "metadata": {
        "colab": {
          "base_uri": "https://localhost:8080/",
          "height": 320
        },
        "id": "Hr1hI7MosBpQ",
        "outputId": "6bd8b41d-8ad2-49a4-b159-f828ed10aa82"
      },
      "source": [
        "# shift train predictions for plotting\n",
        "trainPredictPlot = numpy.empty_like(dataset)\n",
        "trainPredictPlot[:, :] = numpy.nan\n",
        "trainPredictPlot[look_back:len(trainPredict)+look_back, :] = trainPredict\n",
        "# shift test predictions for plotting\n",
        "testPredictPlot = numpy.empty_like(dataset)\n",
        "testPredictPlot[:, :] = numpy.nan\n",
        "testPredictPlot[len(trainPredict)+(look_back*2)+1:len(dataset)-1, :] = testPredict\n",
        "# plot baseline and predictions\n",
        "plt.subplots(figsize=(12, 5))\n",
        "plt.plot(scaler.inverse_transform(dataset))\n",
        "plt.plot(trainPredictPlot)\n",
        "plt.plot(testPredictPlot, color='red')\n",
        "plt.legend([\"dataset\", \"traint\", 'test'])\n",
        "plt.show()"
      ],
      "execution_count": 168,
      "outputs": [
        {
          "output_type": "display_data",
          "data": {
            "image/png": "[encoded data removed]",
            "text/plain": [
              "<Figure size 864x360 with 1 Axes>"
            ]
          },
          "metadata": {
            "tags": [],
            "needs_background": "light"
          }
        }
      ]
    }
  ]
}