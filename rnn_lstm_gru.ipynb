{
  "nbformat": 4,
  "nbformat_minor": 0,
  "metadata": {
    "colab": {
      "name": "rnn-lstm-gru.ipynb",
      "provenance": [],
      "authorship_tag": "ABX9TyNJsl8R3DXAKF563LZc0xQd",
      "include_colab_link": true
    },
    "kernelspec": {
      "name": "python3",
      "display_name": "Python 3"
    },
    "language_info": {
      "name": "python"
    }
  },
  "cells": [
    {
      "cell_type": "markdown",
      "metadata": {
        "id": "view-in-github",
        "colab_type": "text"
      },
      "source": [
        "<a href=\"https://colab.research.google.com/github/augustoaccorsi/autoscaling/blob/main/rnn_lstm_gru.ipynb\" target=\"_parent\"><img src=\"https://colab.research.google.com/assets/colab-badge.svg\" alt=\"Open In Colab\"/></a>"
      ]
    },
    {
      "cell_type": "code",
      "metadata": {
        "id": "MCc5Ww_lfl8_"
      },
      "source": [
        "#pip install tensorflow==1.14 https://www.kaggle.com/raoulma/ny-stock-price-prediction-rnn-lstm-gru"
      ],
      "execution_count": 481,
      "outputs": []
    },
    {
      "cell_type": "code",
      "metadata": {
        "id": "xx4yGKaBghV8"
      },
      "source": [
        "#pip install tensorflow-gpu==1.14"
      ],
      "execution_count": 482,
      "outputs": []
    },
    {
      "cell_type": "code",
      "metadata": {
        "colab": {
          "base_uri": "https://localhost:8080/",
          "height": 53
        },
        "id": "uoTfKm6vSeq0",
        "outputId": "896f7552-0b18-4d71-fed1-d445a44e04c6"
      },
      "source": [
        "'''\n",
        "import numpy as np\n",
        "import pandas as pd\n",
        "import math\n",
        "import sklearn\n",
        "import sklearn.preprocessing\n",
        "import datetime\n",
        "import os\n",
        "import matplotlib.pyplot as plt\n",
        "import tensorflow as tf\n",
        "\n",
        "#import tensorflow.compat.v1 as tf\n",
        "tf.disable_v2_behavior()\n",
        "\n",
        "from tensorflow.python.framework import ops\n",
        "\n",
        "# split data in 80%/10%/10% train/validation/test sets\n",
        "valid_set_size_percentage = 10 \n",
        "test_set_size_percentage = 10 \n",
        "'''"
      ],
      "execution_count": 483,
      "outputs": [
        {
          "output_type": "execute_result",
          "data": {
            "application/vnd.google.colaboratory.intrinsic+json": {
              "type": "string"
            },
            "text/plain": [
              "'\\nimport numpy as np\\nimport pandas as pd\\nimport math\\nimport sklearn\\nimport sklearn.preprocessing\\nimport datetime\\nimport os\\nimport matplotlib.pyplot as plt\\nimport tensorflow as tf\\n\\n#import tensorflow.compat.v1 as tf\\ntf.disable_v2_behavior()\\n\\nfrom tensorflow.python.framework import ops\\n\\n# split data in 80%/10%/10% train/validation/test sets\\nvalid_set_size_percentage = 10 \\ntest_set_size_percentage = 10 \\n'"
            ]
          },
          "metadata": {
            "tags": []
          },
          "execution_count": 483
        }
      ]
    },
    {
      "cell_type": "code",
      "metadata": {
        "colab": {
          "base_uri": "https://localhost:8080/",
          "height": 53
        },
        "id": "HEEIJHoySwBq",
        "outputId": "ae7504a7-ca23-412e-88c4-f8323114ed5c"
      },
      "source": [
        "'''\n",
        "data_xls = pd.read_excel('/content/cpu.xlsx', 'Sheet1', dtype=str, index_col=None)\n",
        "data_xls.to_csv('/content/csvfile.csv', encoding='utf-8', index=False) \n",
        "df=pd.read_csv('/content/csvfile.csv', index_col='date',parse_dates=True)\n",
        "\n",
        "df=df.dropna()\n",
        "print('Shape of data',df.shape)\n",
        "#df.head()\n",
        "df.tail()\n",
        "'''"
      ],
      "execution_count": 484,
      "outputs": [
        {
          "output_type": "execute_result",
          "data": {
            "application/vnd.google.colaboratory.intrinsic+json": {
              "type": "string"
            },
            "text/plain": [
              "\"\\ndata_xls = pd.read_excel('/content/cpu.xlsx', 'Sheet1', dtype=str, index_col=None)\\ndata_xls.to_csv('/content/csvfile.csv', encoding='utf-8', index=False) \\ndf=pd.read_csv('/content/csvfile.csv', index_col='date',parse_dates=True)\\n\\ndf=df.dropna()\\nprint('Shape of data',df.shape)\\n#df.head()\\ndf.tail()\\n\""
            ]
          },
          "metadata": {
            "tags": []
          },
          "execution_count": 484
        }
      ]
    },
    {
      "cell_type": "code",
      "metadata": {
        "id": "FIdsk07VTT0v"
      },
      "source": [
        "#df.describe()"
      ],
      "execution_count": 485,
      "outputs": []
    },
    {
      "cell_type": "code",
      "metadata": {
        "colab": {
          "base_uri": "https://localhost:8080/"
        },
        "id": "1zg14LPUTaEW",
        "outputId": "aa5f23db-856b-411c-c956-755262e21086"
      },
      "source": [
        "df.info()"
      ],
      "execution_count": 486,
      "outputs": [
        {
          "output_type": "stream",
          "text": [
            "<class 'pandas.core.frame.DataFrame'>\n",
            "RangeIndex: 263 entries, 0 to 262\n",
            "Data columns (total 1 columns):\n",
            " #   Column  Non-Null Count  Dtype  \n",
            "---  ------  --------------  -----  \n",
            " 0   value   263 non-null    float64\n",
            "dtypes: float64(1)\n",
            "memory usage: 2.2 KB\n"
          ],
          "name": "stdout"
        }
      ]
    },
    {
      "cell_type": "code",
      "metadata": {
        "colab": {
          "base_uri": "https://localhost:8080/",
          "height": 53
        },
        "id": "TDV-RuLGTdCr",
        "outputId": "888a532c-b012-4dcf-b404-427d6c5717aa"
      },
      "source": [
        "\n",
        "'''\n",
        "plt.figure(figsize=(15, 5));\n",
        "plt.subplot(1,2,1);\n",
        "plt.plot(df, color='red', label='open')\n",
        "plt.title('stock price')\n",
        "plt.xlabel('time [days]')\n",
        "plt.ylabel('price')\n",
        "plt.legend(loc='best')\n",
        "#plt.show()\n",
        "\n",
        "plt.subplot(1,2,2);\n",
        "plt.plot(df, color='black', label='volume')\n",
        "plt.title('stock volume')\n",
        "plt.xlabel('time [days]')\n",
        "plt.ylabel('volume')\n",
        "plt.legend(loc='best');\n",
        "'''"
      ],
      "execution_count": 487,
      "outputs": [
        {
          "output_type": "execute_result",
          "data": {
            "application/vnd.google.colaboratory.intrinsic+json": {
              "type": "string"
            },
            "text/plain": [
              "\"\\nplt.figure(figsize=(15, 5));\\nplt.subplot(1,2,1);\\nplt.plot(df, color='red', label='open')\\nplt.title('stock price')\\nplt.xlabel('time [days]')\\nplt.ylabel('price')\\nplt.legend(loc='best')\\n#plt.show()\\n\\nplt.subplot(1,2,2);\\nplt.plot(df, color='black', label='volume')\\nplt.title('stock volume')\\nplt.xlabel('time [days]')\\nplt.ylabel('volume')\\nplt.legend(loc='best');\\n\""
            ]
          },
          "metadata": {
            "tags": []
          },
          "execution_count": 487
        }
      ]
    },
    {
      "cell_type": "code",
      "metadata": {
        "colab": {
          "base_uri": "https://localhost:8080/",
          "height": 106
        },
        "id": "ZwQbfRggZJdO",
        "outputId": "0f0364f5-c971-4882-e00a-e2027e04c15e"
      },
      "source": [
        "# function for min-max normalization of stock\n",
        "'''\n",
        "def normalize_data(df):\n",
        "    min_max_scaler = sklearn.preprocessing.MinMaxScaler()\n",
        "    df['value'] = min_max_scaler.fit_transform(df.value.values.reshape(-1,1))\n",
        "    return df\n",
        "\n",
        "# function to create train, validation, test data given stock data and sequence length\n",
        "def load_data(stock, seq_len):\n",
        "    data_raw = stock.to_numpy() # convert to numpy array\n",
        "    data = []\n",
        "    \n",
        "    # create all possible sequences of length seq_len\n",
        "    for index in range(len(data_raw) - seq_len): \n",
        "        data.append(data_raw[index: index + seq_len])\n",
        "    \n",
        "    data = np.array(data);\n",
        "    valid_set_size = int(np.round(valid_set_size_percentage/100*data.shape[0]));  \n",
        "    test_set_size = int(np.round(test_set_size_percentage/100*data.shape[0]));\n",
        "    train_set_size = data.shape[0] - (valid_set_size + test_set_size);\n",
        "    \n",
        "    x_train = data[:train_set_size,:-1,:]\n",
        "    y_train = data[:train_set_size,-1,:]\n",
        "    \n",
        "    x_valid = data[train_set_size:train_set_size+valid_set_size,:-1,:]\n",
        "    y_valid = data[train_set_size:train_set_size+valid_set_size,-1,:]\n",
        "    \n",
        "    x_test = data[train_set_size+valid_set_size:,:-1,:]\n",
        "    y_test = data[train_set_size+valid_set_size:,-1,:]\n",
        "    \n",
        "    return [x_train, y_train, x_valid, y_valid, x_test, y_test]\n",
        "\n",
        "# choose one stock\n",
        "df_stock = df\n",
        "\n",
        "cols = list(df_stock.columns.values)\n",
        "print('df_stock.columns.values = ', cols)\n",
        "\n",
        "# normalize stock\n",
        "df_stock_norm = df_stock.copy()\n",
        "df_stock_norm = normalize_data(df_stock_norm)\n",
        "\n",
        "# create train, test data\n",
        "seq_len = 20 # choose sequence length\n",
        "x_train, y_train, x_valid, y_valid, x_test, y_test = load_data(df_stock_norm, seq_len)\n",
        "print('x_train.shape = ',x_train.shape)\n",
        "print('y_train.shape = ', y_train.shape)\n",
        "print('x_valid.shape = ',x_valid.shape)\n",
        "print('y_valid.shape = ', y_valid.shape)\n",
        "print('x_test.shape = ', x_test.shape)\n",
        "print('y_test.shape = ',y_test.shape)\n",
        "'''"
      ],
      "execution_count": 488,
      "outputs": [
        {
          "output_type": "execute_result",
          "data": {
            "application/vnd.google.colaboratory.intrinsic+json": {
              "type": "string"
            },
            "text/plain": [
              "\"\\ndef normalize_data(df):\\n    min_max_scaler = sklearn.preprocessing.MinMaxScaler()\\n    df['value'] = min_max_scaler.fit_transform(df.value.values.reshape(-1,1))\\n    return df\\n\\n# function to create train, validation, test data given stock data and sequence length\\ndef load_data(stock, seq_len):\\n    data_raw = stock.to_numpy() # convert to numpy array\\n    data = []\\n    \\n    # create all possible sequences of length seq_len\\n    for index in range(len(data_raw) - seq_len): \\n        data.append(data_raw[index: index + seq_len])\\n    \\n    data = np.array(data);\\n    valid_set_size = int(np.round(valid_set_size_percentage/100*data.shape[0]));  \\n    test_set_size = int(np.round(test_set_size_percentage/100*data.shape[0]));\\n    train_set_size = data.shape[0] - (valid_set_size + test_set_size);\\n    \\n    x_train = data[:train_set_size,:-1,:]\\n    y_train = data[:train_set_size,-1,:]\\n    \\n    x_valid = data[train_set_size:train_set_size+valid_set_size,:-1,:]\\n    y_valid = data[train_set_size:train_set_size+valid_set_size,-1,:]\\n    \\n    x_test = data[train_set_size+valid_set_size:,:-1,:]\\n    y_test = data[train_set_size+valid_set_size:,-1,:]\\n    \\n    return [x_train, y_train, x_valid, y_valid, x_test, y_test]\\n\\n# choose one stock\\ndf_stock = df\\n\\ncols = list(df_stock.columns.values)\\nprint('df_stock.columns.values = ', cols)\\n\\n# normalize stock\\ndf_stock_norm = df_stock.copy()\\ndf_stock_norm = normalize_data(df_stock_norm)\\n\\n# create train, test data\\nseq_len = 20 # choose sequence length\\nx_train, y_train, x_valid, y_valid, x_test, y_test = load_data(df_stock_norm, seq_len)\\nprint('x_train.shape = ',x_train.shape)\\nprint('y_train.shape = ', y_train.shape)\\nprint('x_valid.shape = ',x_valid.shape)\\nprint('y_valid.shape = ', y_valid.shape)\\nprint('x_test.shape = ', x_test.shape)\\nprint('y_test.shape = ',y_test.shape)\\n\""
            ]
          },
          "metadata": {
            "tags": []
          },
          "execution_count": 488
        }
      ]
    },
    {
      "cell_type": "code",
      "metadata": {
        "colab": {
          "base_uri": "https://localhost:8080/",
          "height": 53
        },
        "id": "kS_nwcVtcxr3",
        "outputId": "2588b8ad-972f-4c76-c3a9-0ce80ba4f782"
      },
      "source": [
        "'''\n",
        "plt.figure(figsize=(15, 5));\n",
        "plt.plot(df_stock_norm.value.values, color='red', label='actual')\n",
        "#plt.plot(df_stock_norm.volume.values, color='gray', label='volume')\n",
        "plt.title('stock')\n",
        "plt.xlabel('time [days]')\n",
        "plt.ylabel('normalized price/volume')\n",
        "plt.legend(loc='best')\n",
        "plt.show()\n",
        "'''"
      ],
      "execution_count": 489,
      "outputs": [
        {
          "output_type": "execute_result",
          "data": {
            "application/vnd.google.colaboratory.intrinsic+json": {
              "type": "string"
            },
            "text/plain": [
              "\"\\nplt.figure(figsize=(15, 5));\\nplt.plot(df_stock_norm.value.values, color='red', label='actual')\\n#plt.plot(df_stock_norm.volume.values, color='gray', label='volume')\\nplt.title('stock')\\nplt.xlabel('time [days]')\\nplt.ylabel('normalized price/volume')\\nplt.legend(loc='best')\\nplt.show()\\n\""
            ]
          },
          "metadata": {
            "tags": []
          },
          "execution_count": 489
        }
      ]
    },
    {
      "cell_type": "code",
      "metadata": {
        "colab": {
          "base_uri": "https://localhost:8080/",
          "height": 106
        },
        "id": "xLEPV96bdW9m",
        "outputId": "4f9868e7-044e-45f3-a2fe-ed51e50e75d1"
      },
      "source": [
        "## Basic Cell RNN in tensorflow\n",
        "'''\n",
        "index_in_epoch = 0;\n",
        "perm_array  = np.arange(x_train.shape[0])\n",
        "np.random.shuffle(perm_array)\n",
        "\n",
        "# function to get the next batch\n",
        "def get_next_batch(batch_size):\n",
        "    global index_in_epoch, x_train, perm_array   \n",
        "    start = index_in_epoch\n",
        "    index_in_epoch += batch_size\n",
        "    \n",
        "    if index_in_epoch > x_train.shape[0]:\n",
        "        np.random.shuffle(perm_array) # shuffle permutation array\n",
        "        start = 0 # start next epoch\n",
        "        index_in_epoch = batch_size\n",
        "        \n",
        "    end = index_in_epoch\n",
        "    return x_train[perm_array[start:end]], y_train[perm_array[start:end]]\n",
        "\n",
        "# parameters\n",
        "n_steps = seq_len-1 \n",
        "n_inputs = 1\n",
        "n_neurons = 200 \n",
        "n_outputs = 1\n",
        "n_layers = 2\n",
        "learning_rate = 0.001\n",
        "batch_size = 50\n",
        "n_epochs = 200 \n",
        "train_set_size = x_train.shape[0]\n",
        "test_set_size = x_test.shape[0]\n",
        "\n",
        "ops.reset_default_graph()\n",
        "\n",
        "X = tf.placeholder(tf.float32, [None, n_steps, n_inputs])\n",
        "y = tf.placeholder(tf.float32, [None, n_outputs])\n",
        "\n",
        "# use Basic RNN Cell\n",
        "layers = [tf.contrib.rnn.BasicRNNCell(num_units=n_neurons, activation=tf.nn.elu)\n",
        "          for layer in range(n_layers)]\n",
        "\n",
        "# use Basic LSTM Cell \n",
        "#layers = [tf.contrib.rnn.BasicLSTMCell(num_units=n_neurons, activation=tf.nn.elu)\n",
        "#          for layer in range(n_layers)]\n",
        "\n",
        "# use LSTM Cell with peephole connections\n",
        "#layers = [tf.contrib.rnn.LSTMCell(num_units=n_neurons, \n",
        "#                                  activation=tf.nn.leaky_relu, use_peepholes = True)\n",
        "#          for layer in range(n_layers)]\n",
        "\n",
        "# use GRU cell\n",
        "#layers = [tf.contrib.rnn.GRUCell(num_units=n_neurons, activation=tf.nn.leaky_relu)\n",
        "#          for layer in range(n_layers)]\n",
        "                                                                     \n",
        "multi_layer_cell = tf.contrib.rnn.MultiRNNCell(layers)\n",
        "rnn_outputs, states = tf.nn.dynamic_rnn(multi_layer_cell, X, dtype=tf.float32)\n",
        "\n",
        "stacked_rnn_outputs = tf.reshape(rnn_outputs, [-1, n_neurons]) \n",
        "stacked_outputs = tf.layers.dense(stacked_rnn_outputs, n_outputs)\n",
        "outputs = tf.reshape(stacked_outputs, [-1, n_steps, n_outputs])\n",
        "outputs = outputs[:,n_steps-1,:] # keep only last output of sequence\n",
        "                                              \n",
        "loss = tf.reduce_mean(tf.square(outputs - y)) # loss function = mean squared error \n",
        "optimizer = tf.train.AdamOptimizer(learning_rate=learning_rate) \n",
        "training_op = optimizer.minimize(loss)\n",
        "                                              \n",
        "# run graph\n",
        "with tf.Session() as sess: \n",
        "    sess.run(tf.global_variables_initializer())\n",
        "    for iteration in range(int(n_epochs*train_set_size/batch_size)):\n",
        "        x_batch, y_batch = get_next_batch(batch_size) # fetch the next training batch \n",
        "        sess.run(training_op, feed_dict={X: x_batch, y: y_batch}) \n",
        "        if iteration % int(5*train_set_size/batch_size) == 0:\n",
        "            mse_train = loss.eval(feed_dict={X: x_train, y: y_train}) \n",
        "            mse_valid = loss.eval(feed_dict={X: x_valid, y: y_valid}) \n",
        "            print('%.2f epochs: MSE train/valid = %.6f/%.6f'%(\n",
        "                iteration*batch_size/train_set_size, mse_train, mse_valid))\n",
        "\n",
        "    y_train_pred = sess.run(outputs, feed_dict={X: x_train})\n",
        "    y_valid_pred = sess.run(outputs, feed_dict={X: x_valid})\n",
        "    y_test_pred = sess.run(outputs, feed_dict={X: x_test})\n",
        "'''"
      ],
      "execution_count": 490,
      "outputs": [
        {
          "output_type": "execute_result",
          "data": {
            "application/vnd.google.colaboratory.intrinsic+json": {
              "type": "string"
            },
            "text/plain": [
              "\"\\nindex_in_epoch = 0;\\nperm_array  = np.arange(x_train.shape[0])\\nnp.random.shuffle(perm_array)\\n\\n# function to get the next batch\\ndef get_next_batch(batch_size):\\n    global index_in_epoch, x_train, perm_array   \\n    start = index_in_epoch\\n    index_in_epoch += batch_size\\n    \\n    if index_in_epoch > x_train.shape[0]:\\n        np.random.shuffle(perm_array) # shuffle permutation array\\n        start = 0 # start next epoch\\n        index_in_epoch = batch_size\\n        \\n    end = index_in_epoch\\n    return x_train[perm_array[start:end]], y_train[perm_array[start:end]]\\n\\n# parameters\\nn_steps = seq_len-1 \\nn_inputs = 1\\nn_neurons = 200 \\nn_outputs = 1\\nn_layers = 2\\nlearning_rate = 0.001\\nbatch_size = 50\\nn_epochs = 200 \\ntrain_set_size = x_train.shape[0]\\ntest_set_size = x_test.shape[0]\\n\\nops.reset_default_graph()\\n\\nX = tf.placeholder(tf.float32, [None, n_steps, n_inputs])\\ny = tf.placeholder(tf.float32, [None, n_outputs])\\n\\n# use Basic RNN Cell\\nlayers = [tf.contrib.rnn.BasicRNNCell(num_units=n_neurons, activation=tf.nn.elu)\\n          for layer in range(n_layers)]\\n\\n# use Basic LSTM Cell \\n#layers = [tf.contrib.rnn.BasicLSTMCell(num_units=n_neurons, activation=tf.nn.elu)\\n#          for layer in range(n_layers)]\\n\\n# use LSTM Cell with peephole connections\\n#layers = [tf.contrib.rnn.LSTMCell(num_units=n_neurons, \\n#                                  activation=tf.nn.leaky_relu, use_peepholes = True)\\n#          for layer in range(n_layers)]\\n\\n# use GRU cell\\n#layers = [tf.contrib.rnn.GRUCell(num_units=n_neurons, activation=tf.nn.leaky_relu)\\n#          for layer in range(n_layers)]\\n                                                                     \\nmulti_layer_cell = tf.contrib.rnn.MultiRNNCell(layers)\\nrnn_outputs, states = tf.nn.dynamic_rnn(multi_layer_cell, X, dtype=tf.float32)\\n\\nstacked_rnn_outputs = tf.reshape(rnn_outputs, [-1, n_neurons]) \\nstacked_outputs = tf.layers.dense(stacked_rnn_outputs, n_outputs)\\noutputs = tf.reshape(stacked_outputs, [-1, n_steps, n_outputs])\\noutputs = outputs[:,n_steps-1,:] # keep only last output of sequence\\n                                              \\nloss = tf.reduce_mean(tf.square(outputs - y)) # loss function = mean squared error \\noptimizer = tf.train.AdamOptimizer(learning_rate=learning_rate) \\ntraining_op = optimizer.minimize(loss)\\n                                              \\n# run graph\\nwith tf.Session() as sess: \\n    sess.run(tf.global_variables_initializer())\\n    for iteration in range(int(n_epochs*train_set_size/batch_size)):\\n        x_batch, y_batch = get_next_batch(batch_size) # fetch the next training batch \\n        sess.run(training_op, feed_dict={X: x_batch, y: y_batch}) \\n        if iteration % int(5*train_set_size/batch_size) == 0:\\n            mse_train = loss.eval(feed_dict={X: x_train, y: y_train}) \\n            mse_valid = loss.eval(feed_dict={X: x_valid, y: y_valid}) \\n            print('%.2f epochs: MSE train/valid = %.6f/%.6f'%(\\n                iteration*batch_size/train_set_size, mse_train, mse_valid))\\n\\n    y_train_pred = sess.run(outputs, feed_dict={X: x_train})\\n    y_valid_pred = sess.run(outputs, feed_dict={X: x_valid})\\n    y_test_pred = sess.run(outputs, feed_dict={X: x_test})\\n\""
            ]
          },
          "metadata": {
            "tags": []
          },
          "execution_count": 490
        }
      ]
    },
    {
      "cell_type": "code",
      "metadata": {
        "id": "q6BXvwtwiO-_"
      },
      "source": [
        "#y_train.shape"
      ],
      "execution_count": 491,
      "outputs": []
    },
    {
      "cell_type": "code",
      "metadata": {
        "colab": {
          "base_uri": "https://localhost:8080/",
          "height": 106
        },
        "id": "NejyX1GqiVRW",
        "outputId": "048a984e-7ffe-437e-eba0-4aa12c889fa4"
      },
      "source": [
        "'''\n",
        "ft = 0 # 0 = open, 1 = close, 2 = highest, 3 = lowest\n",
        "\n",
        "## show predictions\n",
        "plt.figure(figsize=(25, 10));\n",
        "plt.subplot(1,2,1);\n",
        "\n",
        "plt.plot(np.arange(y_train.shape[0]), y_train[:,ft], color='blue', label='train target')\n",
        "\n",
        "plt.plot(np.arange(y_train.shape[0], y_train.shape[0]+y_valid.shape[0]), y_valid[:,ft],\n",
        "         color='gray', label='valid target')\n",
        "\n",
        "plt.plot(np.arange(y_train.shape[0]+y_valid.shape[0],\n",
        "                   y_train.shape[0]+y_test.shape[0]+y_test.shape[0]),\n",
        "         y_test[:,ft], color='black', label='test target')\n",
        "\n",
        "plt.plot(np.arange(y_train_pred.shape[0]),y_train_pred[:,ft], color='red',\n",
        "         label='train prediction')\n",
        "\n",
        "plt.plot(np.arange(y_train_pred.shape[0], y_train_pred.shape[0]+y_valid_pred.shape[0]),\n",
        "         y_valid_pred[:,ft], color='orange', label='valid prediction')\n",
        "\n",
        "plt.plot(np.arange(y_train_pred.shape[0]+y_valid_pred.shape[0],\n",
        "                   y_train_pred.shape[0]+y_valid_pred.shape[0]+y_test_pred.shape[0]),\n",
        "         y_test_pred[:,ft], color='green', label='test prediction')\n",
        "\n",
        "plt.title('past and future stock prices')\n",
        "plt.xlabel('time [days]')\n",
        "plt.ylabel('normalized price')\n",
        "plt.legend(loc='best');\n",
        "\n",
        "plt.subplot(1,2,2);\n",
        "\n",
        "plt.plot(np.arange(y_train.shape[0], y_train.shape[0]+y_test.shape[0]),\n",
        "         y_test[:,ft], color='black', label='test target')\n",
        "\n",
        "plt.plot(np.arange(y_train_pred.shape[0], y_train_pred.shape[0]+y_test_pred.shape[0]),\n",
        "         y_test_pred[:,ft], color='green', label='test prediction')\n",
        "\n",
        "plt.title('future stock prices')\n",
        "plt.xlabel('time [days]')\n",
        "plt.ylabel('normalized price')\n",
        "plt.legend(loc='best');\n",
        "\n",
        "\n",
        "corr_price_development_train = np.sum(np.equal(np.sign(y_train[:,1]-y_train[:,0]),\n",
        "            np.sign(y_train_pred[:,1]-y_train_pred[:,0])).astype(int)) / y_train.shape[0]\n",
        "corr_price_development_valid = np.sum(np.equal(np.sign(y_valid[:,1]-y_valid[:,0]),\n",
        "            np.sign(y_valid_pred[:,1]-y_valid_pred[:,0])).astype(int)) / y_valid.shape[0]\n",
        "corr_price_development_test = np.sum(np.equal(np.sign(y_test[:,1]-y_test[:,0]),\n",
        "            np.sign(y_test_pred[:,1]-y_test_pred[:,0])).astype(int)) / y_test.shape[0]\n",
        "\n",
        "print('correct sign prediction for close - open price for train/valid/test: %.2f/%.2f/%.2f'%(\n",
        "    corr_price_development_train, corr_price_development_valid, corr_price_development_test))\n",
        "'''"
      ],
      "execution_count": 492,
      "outputs": [
        {
          "output_type": "execute_result",
          "data": {
            "application/vnd.google.colaboratory.intrinsic+json": {
              "type": "string"
            },
            "text/plain": [
              "\"\\nft = 0 # 0 = open, 1 = close, 2 = highest, 3 = lowest\\n\\n## show predictions\\nplt.figure(figsize=(25, 10));\\nplt.subplot(1,2,1);\\n\\nplt.plot(np.arange(y_train.shape[0]), y_train[:,ft], color='blue', label='train target')\\n\\nplt.plot(np.arange(y_train.shape[0], y_train.shape[0]+y_valid.shape[0]), y_valid[:,ft],\\n         color='gray', label='valid target')\\n\\nplt.plot(np.arange(y_train.shape[0]+y_valid.shape[0],\\n                   y_train.shape[0]+y_test.shape[0]+y_test.shape[0]),\\n         y_test[:,ft], color='black', label='test target')\\n\\nplt.plot(np.arange(y_train_pred.shape[0]),y_train_pred[:,ft], color='red',\\n         label='train prediction')\\n\\nplt.plot(np.arange(y_train_pred.shape[0], y_train_pred.shape[0]+y_valid_pred.shape[0]),\\n         y_valid_pred[:,ft], color='orange', label='valid prediction')\\n\\nplt.plot(np.arange(y_train_pred.shape[0]+y_valid_pred.shape[0],\\n                   y_train_pred.shape[0]+y_valid_pred.shape[0]+y_test_pred.shape[0]),\\n         y_test_pred[:,ft], color='green', label='test prediction')\\n\\nplt.title('past and future stock prices')\\nplt.xlabel('time [days]')\\nplt.ylabel('normalized price')\\nplt.legend(loc='best');\\n\\nplt.subplot(1,2,2);\\n\\nplt.plot(np.arange(y_train.shape[0], y_train.shape[0]+y_test.shape[0]),\\n         y_test[:,ft], color='black', label='test target')\\n\\nplt.plot(np.arange(y_train_pred.shape[0], y_train_pred.shape[0]+y_test_pred.shape[0]),\\n         y_test_pred[:,ft], color='green', label='test prediction')\\n\\nplt.title('future stock prices')\\nplt.xlabel('time [days]')\\nplt.ylabel('normalized price')\\nplt.legend(loc='best');\\n\\n\\ncorr_price_development_train = np.sum(np.equal(np.sign(y_train[:,1]-y_train[:,0]),\\n            np.sign(y_train_pred[:,1]-y_train_pred[:,0])).astype(int)) / y_train.shape[0]\\ncorr_price_development_valid = np.sum(np.equal(np.sign(y_valid[:,1]-y_valid[:,0]),\\n            np.sign(y_valid_pred[:,1]-y_valid_pred[:,0])).astype(int)) / y_valid.shape[0]\\ncorr_price_development_test = np.sum(np.equal(np.sign(y_test[:,1]-y_test[:,0]),\\n            np.sign(y_test_pred[:,1]-y_test_pred[:,0])).astype(int)) / y_test.shape[0]\\n\\nprint('correct sign prediction for close - open price for train/valid/test: %.2f/%.2f/%.2f'%(\\n    corr_price_development_train, corr_price_development_valid, corr_price_development_test))\\n\""
            ]
          },
          "metadata": {
            "tags": []
          },
          "execution_count": 492
        }
      ]
    },
    {
      "cell_type": "code",
      "metadata": {
        "colab": {
          "base_uri": "https://localhost:8080/",
          "height": 282
        },
        "id": "0Qsi7DfqsBV1",
        "outputId": "93848d7b-599b-4e9a-e870-1bcda0d1599d"
      },
      "source": [
        "#https://medium.com/analytics-vidhya/rnn-vs-gru-vs-lstm-863b0b7b1573\n",
        "import numpy as np\n",
        "import matplotlib.pyplot as plt\n",
        "import pandas as pd\n",
        "from tensorflow.keras.models import Sequential\n",
        "from tensorflow.keras.layers import Dense, LSTM,GRU,SimpleRNN\n",
        "from sklearn.preprocessing import MinMaxScaler\n",
        "\n",
        "\n",
        "\n",
        "data_xls = pd.read_excel('/content/cpuup.xlsx', 'Sheet1', dtype=str, index_col=None)\n",
        "data_xls.to_csv('/content/csvfile.csv', encoding='utf-8', index=False) \n",
        "df=pd.read_csv('/content/csvfile.csv')\n",
        "\n",
        "\n",
        "df.head()\n",
        "df.drop(['date'],axis=1,inplace=True)\n",
        "dataset = np.array(df)\n",
        "dataset.reshape(-1,1)\n",
        "\n",
        "\n",
        "plt.plot(dataset)"
      ],
      "execution_count": 493,
      "outputs": [
        {
          "output_type": "execute_result",
          "data": {
            "text/plain": [
              "[<matplotlib.lines.Line2D at 0x7f62757da7d0>]"
            ]
          },
          "metadata": {
            "tags": []
          },
          "execution_count": 493
        },
        {
          "output_type": "display_data",
          "data": {
            "image/png": "[encoded data removed]",
            "text/plain": [
              "<Figure size 432x288 with 1 Axes>"
            ]
          },
          "metadata": {
            "tags": [],
            "needs_background": "light"
          }
        }
      ]
    },
    {
      "cell_type": "code",
      "metadata": {
        "id": "O5h5_B3wseS7"
      },
      "source": [
        "scaler = MinMaxScaler()\n",
        "dataset = scaler.fit_transform(dataset)"
      ],
      "execution_count": 494,
      "outputs": []
    },
    {
      "cell_type": "code",
      "metadata": {
        "id": "pZnc3HlyslFM"
      },
      "source": [
        "train_size = int(len(dataset) * 0.75)\n",
        "test_size = len(dataset) - train_size\n",
        "train=dataset[:train_size,:]\n",
        "test=dataset[train_size:len(dataset),:]\n",
        "def getdata(data,lookback):\n",
        "    X,Y=[],[]\n",
        "    for i in range(len(data)-lookback-1):\n",
        "        X.append(data[i:i+lookback,0])\n",
        "        Y.append(data[i+lookback,0])\n",
        "    return np.array(X),np.array(Y).reshape(-1,1)\n",
        "lookback=1\n",
        "X_train,y_train=getdata(train,lookback)\n",
        "X_test,y_test=getdata(test,lookback)\n",
        "X_train=X_train.reshape(X_train.shape[0],X_train.shape[1],1)\n",
        "X_test=X_test.reshape(X_test.shape[0],X_test.shape[1],1)"
      ],
      "execution_count": 495,
      "outputs": []
    },
    {
      "cell_type": "code",
      "metadata": {
        "id": "8Q3vAa4Hsxe4"
      },
      "source": [
        "#LSMT\n",
        "model=Sequential()\n",
        "model.add(LSTM(5,input_shape=(1,lookback)))\n",
        "model.add(Dense(1))\n",
        "model.compile(loss='mean_squared_error',optimizer='adam')"
      ],
      "execution_count": 496,
      "outputs": []
    },
    {
      "cell_type": "code",
      "metadata": {
        "colab": {
          "base_uri": "https://localhost:8080/"
        },
        "id": "lOHvTqYrtPSX",
        "outputId": "bc88c82e-e1be-4421-fbf3-a2d709ac90a6"
      },
      "source": [
        "model.summary()"
      ],
      "execution_count": 497,
      "outputs": [
        {
          "output_type": "stream",
          "text": [
            "Model: \"sequential_21\"\n",
            "_________________________________________________________________\n",
            "Layer (type)                 Output Shape              Param #   \n",
            "=================================================================\n",
            "lstm_10 (LSTM)               (None, 5)                 140       \n",
            "_________________________________________________________________\n",
            "dense_22 (Dense)             (None, 1)                 6         \n",
            "=================================================================\n",
            "Total params: 146\n",
            "Trainable params: 146\n",
            "Non-trainable params: 0\n",
            "_________________________________________________________________\n"
          ],
          "name": "stdout"
        }
      ]
    },
    {
      "cell_type": "code",
      "metadata": {
        "colab": {
          "base_uri": "https://localhost:8080/"
        },
        "id": "CZqTWn5VtPWM",
        "outputId": "eb98c4af-a393-4b54-ed73-2de96f2509fd"
      },
      "source": [
        "model.fit(X_train, y_train, epochs=50, batch_size=1)\n",
        "y_pred=model.predict(X_test)\n",
        "y_test=scaler.inverse_transform(y_test)\n",
        "y_pred=scaler.inverse_transform(y_pred)"
      ],
      "execution_count": 498,
      "outputs": [
        {
          "output_type": "stream",
          "text": [
            "Epoch 1/50\n",
            "182/182 [==============================] - 3s 16ms/sample - loss: 0.1731\n",
            "Epoch 2/50\n",
            "182/182 [==============================] - 1s 3ms/sample - loss: 0.1284\n",
            "Epoch 3/50\n",
            "182/182 [==============================] - 1s 3ms/sample - loss: 0.1098\n",
            "Epoch 4/50\n",
            "182/182 [==============================] - 1s 3ms/sample - loss: 0.0974\n",
            "Epoch 5/50\n",
            "182/182 [==============================] - 1s 3ms/sample - loss: 0.0870\n",
            "Epoch 6/50\n",
            "182/182 [==============================] - 1s 3ms/sample - loss: 0.0795\n",
            "Epoch 7/50\n",
            "182/182 [==============================] - 1s 3ms/sample - loss: 0.0753\n",
            "Epoch 8/50\n",
            "182/182 [==============================] - 1s 3ms/sample - loss: 0.0731\n",
            "Epoch 9/50\n",
            "182/182 [==============================] - 1s 3ms/sample - loss: 0.0721\n",
            "Epoch 10/50\n",
            "182/182 [==============================] - 1s 3ms/sample - loss: 0.0716\n",
            "Epoch 11/50\n",
            "182/182 [==============================] - 0s 3ms/sample - loss: 0.0718\n",
            "Epoch 12/50\n",
            "182/182 [==============================] - 1s 3ms/sample - loss: 0.0714\n",
            "Epoch 13/50\n",
            "182/182 [==============================] - 1s 4ms/sample - loss: 0.0709\n",
            "Epoch 14/50\n",
            "182/182 [==============================] - 1s 3ms/sample - loss: 0.0715\n",
            "Epoch 15/50\n",
            "182/182 [==============================] - 1s 4ms/sample - loss: 0.0709\n",
            "Epoch 16/50\n",
            "182/182 [==============================] - 1s 4ms/sample - loss: 0.0713\n",
            "Epoch 17/50\n",
            "182/182 [==============================] - 1s 4ms/sample - loss: 0.0716\n",
            "Epoch 18/50\n",
            "182/182 [==============================] - 1s 3ms/sample - loss: 0.0712\n",
            "Epoch 19/50\n",
            "182/182 [==============================] - 1s 3ms/sample - loss: 0.0713\n",
            "Epoch 20/50\n",
            "182/182 [==============================] - 1s 3ms/sample - loss: 0.0713\n",
            "Epoch 21/50\n",
            "182/182 [==============================] - 1s 3ms/sample - loss: 0.0710\n",
            "Epoch 22/50\n",
            "182/182 [==============================] - 1s 3ms/sample - loss: 0.0714\n",
            "Epoch 23/50\n",
            "182/182 [==============================] - 1s 4ms/sample - loss: 0.0717\n",
            "Epoch 24/50\n",
            "182/182 [==============================] - 1s 3ms/sample - loss: 0.0711\n",
            "Epoch 25/50\n",
            "182/182 [==============================] - 1s 3ms/sample - loss: 0.0708\n",
            "Epoch 26/50\n",
            "182/182 [==============================] - 1s 4ms/sample - loss: 0.0710\n",
            "Epoch 27/50\n",
            "182/182 [==============================] - 1s 3ms/sample - loss: 0.0710\n",
            "Epoch 28/50\n",
            "182/182 [==============================] - 1s 3ms/sample - loss: 0.0709\n",
            "Epoch 29/50\n",
            "182/182 [==============================] - 1s 3ms/sample - loss: 0.0709\n",
            "Epoch 30/50\n",
            "182/182 [==============================] - 1s 3ms/sample - loss: 0.0713\n",
            "Epoch 31/50\n",
            "182/182 [==============================] - 1s 3ms/sample - loss: 0.0709\n",
            "Epoch 32/50\n",
            "182/182 [==============================] - 1s 3ms/sample - loss: 0.0709\n",
            "Epoch 33/50\n",
            "182/182 [==============================] - 1s 3ms/sample - loss: 0.0707\n",
            "Epoch 34/50\n",
            "182/182 [==============================] - 1s 3ms/sample - loss: 0.0708\n",
            "Epoch 35/50\n",
            "182/182 [==============================] - 1s 4ms/sample - loss: 0.0710\n",
            "Epoch 36/50\n",
            "182/182 [==============================] - 1s 3ms/sample - loss: 0.0711\n",
            "Epoch 37/50\n",
            "182/182 [==============================] - 1s 3ms/sample - loss: 0.0708\n",
            "Epoch 38/50\n",
            "182/182 [==============================] - 1s 3ms/sample - loss: 0.0706\n",
            "Epoch 39/50\n",
            "182/182 [==============================] - 1s 3ms/sample - loss: 0.0711\n",
            "Epoch 40/50\n",
            "182/182 [==============================] - 1s 4ms/sample - loss: 0.0710\n",
            "Epoch 41/50\n",
            "182/182 [==============================] - 1s 3ms/sample - loss: 0.0709\n",
            "Epoch 42/50\n",
            "182/182 [==============================] - 1s 3ms/sample - loss: 0.0709\n",
            "Epoch 43/50\n",
            "182/182 [==============================] - 1s 3ms/sample - loss: 0.0706\n",
            "Epoch 44/50\n",
            "182/182 [==============================] - 1s 3ms/sample - loss: 0.0708\n",
            "Epoch 45/50\n",
            "182/182 [==============================] - 1s 4ms/sample - loss: 0.0709\n",
            "Epoch 46/50\n",
            "182/182 [==============================] - 1s 3ms/sample - loss: 0.0705\n",
            "Epoch 47/50\n",
            "182/182 [==============================] - 1s 3ms/sample - loss: 0.0710\n",
            "Epoch 48/50\n",
            "182/182 [==============================] - 1s 4ms/sample - loss: 0.0709\n",
            "Epoch 49/50\n",
            "182/182 [==============================] - 1s 3ms/sample - loss: 0.0708\n",
            "Epoch 50/50\n",
            "182/182 [==============================] - 1s 3ms/sample - loss: 0.0708\n"
          ],
          "name": "stdout"
        }
      ]
    },
    {
      "cell_type": "code",
      "metadata": {
        "colab": {
          "base_uri": "https://localhost:8080/",
          "height": 320
        },
        "id": "VZOCIPmltb-H",
        "outputId": "e40752f0-9369-4cf2-bfcb-857e40f30f7f"
      },
      "source": [
        "plt.figure(figsize=(14,5))\n",
        "plt.plot(y_test, label = 'Real CPU')\n",
        "plt.plot(y_pred, label = 'Predicted CPU')\n",
        "plt.ylabel('# passengers')\n",
        "plt.legend()\n",
        "plt.show()"
      ],
      "execution_count": 499,
      "outputs": [
        {
          "output_type": "display_data",
          "data": {
            "image/png": "[encoded data removed]",
            "text/plain": [
              "<Figure size 1008x360 with 1 Axes>"
            ]
          },
          "metadata": {
            "tags": [],
            "needs_background": "light"
          }
        }
      ]
    },
    {
      "cell_type": "code",
      "metadata": {
        "colab": {
          "base_uri": "https://localhost:8080/"
        },
        "id": "6f8abpuStlBm",
        "outputId": "da65c847-11fb-436f-9b21-7eccaef69742"
      },
      "source": [
        "from sklearn.metrics import mean_squared_error, mean_absolute_error, r2_score\n",
        "from math import sqrt\n",
        "\n",
        "print(f'MAE {mean_absolute_error(y_test, y_pred)}')\n",
        "print(f'MSE {mean_squared_error(y_test, y_pred)}')\n",
        "print(f'RMSE {np.sqrt(mean_squared_error(y_test, y_pred))}')\n",
        "print(f'R2 {r2_score(y_test, y_pred)}')"
      ],
      "execution_count": 500,
      "outputs": [
        {
          "output_type": "stream",
          "text": [
            "MAE 18.373772251815794\n",
            "MSE 822.042123183959\n",
            "RMSE 28.671276971630668\n",
            "R2 0.4022703496397009\n"
          ],
          "name": "stdout"
        }
      ]
    },
    {
      "cell_type": "code",
      "metadata": {
        "colab": {
          "base_uri": "https://localhost:8080/"
        },
        "id": "PHARLCGvwlv9",
        "outputId": "bb952a6c-0fc7-45a0-e7e9-0d044cb0392c"
      },
      "source": [
        "model.evaluate(X_train, y_train)"
      ],
      "execution_count": 501,
      "outputs": [
        {
          "output_type": "stream",
          "text": [
            "182/182 [==============================] - 1s 5ms/sample - loss: 0.0701\n"
          ],
          "name": "stdout"
        },
        {
          "output_type": "execute_result",
          "data": {
            "text/plain": [
              "0.07014396172630918"
            ]
          },
          "metadata": {
            "tags": []
          },
          "execution_count": 501
        }
      ]
    }
  ]
}